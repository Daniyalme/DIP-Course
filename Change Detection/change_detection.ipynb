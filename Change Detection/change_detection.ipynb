{
 "cells": [
  {
   "cell_type": "markdown",
   "metadata": {},
   "source": [
    "## Change Detection: Harnessing Image Processing\n",
    "\n",
    "Exploring the methods of **image processing** for detecting changes using the [Change Detection Dataset](https://gitlab.citius.gal/hiperespectral/ChangeDetectionDataset).\n",
    "\n",
    "### How to Get Started\n",
    "\n",
    "1. **Download the Dataset**  \n",
    "   Begin by downloading the dataset from the link above.\n",
    "\n",
    "2. **Set Up Your File Paths**  \n",
    "   Update your configuration to reflect your local setup:\n",
    "   - `original_file_path`: Path to your **original** image file.\n",
    "   - `changed_file_path`: Path to your **changed** image file.\n",
    "\n",
    "With these steps complete, you're all set to dive into change detection and unlock insights with precision-driven image analysis! 🚀"
   ]
  },
  {
   "cell_type": "code",
   "execution_count": 1,
   "metadata": {},
   "outputs": [],
   "source": [
    "import numpy as np\n",
    "import cv2 as cv\n",
    "import scipy.io\n",
    "from skimage import exposure"
   ]
  },
  {
   "cell_type": "code",
   "execution_count": null,
   "metadata": {},
   "outputs": [
    {
     "name": "stdout",
     "output_type": "stream",
     "text": [
      "Original Image: [shape = (600, 500, 224) / dtype = float64]\n",
      "Changed Image:  [shape = (600, 500, 224) / dtype = float64]\n"
     ]
    }
   ],
   "source": [
    "# # Define the path to the .raw file\n",
    "original_file_path = \"./inputs/ChangeDetectionDataset-master/bayArea/mat/Bay_Area_2013.mat\"\n",
    "changed_file_path = \"./inputs/ChangeDetectionDataset-master/bayArea/mat/Bay_Area_2015.mat\"\n",
    "\n",
    "original_mat = scipy.io.loadmat(original_file_path)\n",
    "changed_mat = scipy.io.loadmat(changed_file_path)\n",
    "\n",
    "print(f\"Original Image: [shape = {original_mat[\"HypeRvieW\"].shape} / dtype = {original_mat[\"HypeRvieW\"].dtype}]\")\n",
    "print(f\"Changed Image:  [shape = {changed_mat[\"HypeRvieW\"].shape} / dtype = {changed_mat[\"HypeRvieW\"].dtype}]\")"
   ]
  },
  {
   "cell_type": "code",
   "execution_count": 3,
   "metadata": {},
   "outputs": [],
   "source": [
    "original_image = original_mat[\"HypeRvieW\"]\n",
    "changed_image = changed_mat[\"HypeRvieW\"]"
   ]
  },
  {
   "cell_type": "code",
   "execution_count": null,
   "metadata": {},
   "outputs": [],
   "source": [
    "h, w, ch = original_image.shape"
   ]
  },
  {
   "cell_type": "code",
   "execution_count": 77,
   "metadata": {},
   "outputs": [],
   "source": [
    "for i in range(ch):\n",
    "    cv.imshow(\"pic\", original_image[:,:,i]/ np.max(original_image[:,:,i]))\n",
    "    cv.waitKey(50)\n",
    "cv.destroyAllWindows()"
   ]
  },
  {
   "cell_type": "code",
   "execution_count": 69,
   "metadata": {},
   "outputs": [],
   "source": [
    "blue_wavelength = (380, 500)\n",
    "green_wavelength = (500, 650)\n",
    "red_wavelength = (650, 680)\n",
    "\n",
    "channel_wavelengths = [blue_wavelength, green_wavelength, red_wavelength]"
   ]
  },
  {
   "cell_type": "code",
   "execution_count": 70,
   "metadata": {},
   "outputs": [],
   "source": [
    "min_wave_length = 380         # * Wavelength range = (380nm, 2510nm)\n",
    "max_wave_length = 2510        # * Wavelength range = (380nm, 2510nm)\n",
    "\n",
    "step_size = (max_wave_length - min_wave_length) / ch\n",
    "\n",
    "I = np.zeros((h, w, 3), dtype=np.float64) # * colored_image\n",
    "\n",
    "for i, channel_wavelength in enumerate(channel_wavelengths):\n",
    "     \n",
    "     start_idx = int((channel_wavelength[0] - 380) / step_size)\n",
    "     end_idx = int((channel_wavelength[1] - 380) / step_size)\n",
    "     \n",
    "     I[:,:,i] = np.sum(original_image[:,:,start_idx:end_idx], axis=2)\n",
    "     \n",
    "     I[:,:,i] = I[:,:,i] / np.max(I[:,:,i])\n",
    "\n",
    "     cv.imshow(\"pic\", I[:,:,i])\n",
    "     cv.waitKey(0)\n",
    "\n",
    "original_colored = (255 * I).astype(np.uint8)\n",
    "\n",
    "cv.imshow(\"pic\", original_colored)\n",
    "cv.waitKey(0)\n",
    "cv.destroyAllWindows()     "
   ]
  },
  {
   "cell_type": "code",
   "execution_count": 71,
   "metadata": {},
   "outputs": [],
   "source": [
    "h, w, ch = changed_image.shape\n",
    "\n",
    "min_wave_length = 380         # * Wavelength range = (380nm, 2510nm)\n",
    "max_wave_length = 2510        # * Wavelength range = (380nm, 2510nm)\n",
    "\n",
    "step_size = (max_wave_length - min_wave_length) / ch\n",
    "\n",
    "I = np.zeros((h, w, 3), dtype=np.float64) # * colored_image\n",
    "\n",
    "for i, channel_wavelength in enumerate(channel_wavelengths):\n",
    "     \n",
    "     start_idx = int((channel_wavelength[0] - 380) / step_size)\n",
    "     end_idx = int((channel_wavelength[1] - 380) / step_size)\n",
    "     \n",
    "     I[:,:,i] = np.sum(changed_image[:,:, start_idx:end_idx+1], axis=2)\n",
    "     \n",
    "     I[:,:,i] = I[:,:,i]  / np.max(I[:,:,i])\n",
    "     \n",
    "     cv.imshow(\"pic\", I[:,:,i])\n",
    "     cv.waitKey(0)\n",
    "\n",
    "changed_colored = (255 * I).astype(np.uint8)\n",
    "\n",
    "cv.imshow(\"pic\", changed_colored)\n",
    "cv.waitKey(0)\n",
    "cv.destroyAllWindows()"
   ]
  },
  {
   "cell_type": "code",
   "execution_count": 72,
   "metadata": {},
   "outputs": [
    {
     "data": {
      "text/plain": [
       "True"
      ]
     },
     "execution_count": 72,
     "metadata": {},
     "output_type": "execute_result"
    }
   ],
   "source": [
    "adjusted_original_colored = exposure.rescale_intensity(original_colored, in_range=(0,100))\n",
    "adjusted_changed_colored = exposure.rescale_intensity(changed_colored, in_range=(0,100))\n",
    "\n",
    "    \n",
    "cv.imshow(\"pic\", adjusted_original_colored)\n",
    "cv.waitKey(0)\n",
    "cv.imshow(\"pic\", adjusted_changed_colored)\n",
    "cv.waitKey(0)\n",
    "cv.destroyAllWindows() \n",
    "\n",
    "cv.imwrite(f\"./outputs/P1/bayArea_2013_RGB.png\", adjusted_original_colored)\n",
    "cv.imwrite(f\"./outputs/P1/bayArea_2015_RGB.png\", adjusted_changed_colored)"
   ]
  },
  {
   "cell_type": "markdown",
   "metadata": {},
   "source": [
    "Calculating the changes in water and vegetation"
   ]
  },
  {
   "cell_type": "code",
   "execution_count": 88,
   "metadata": {},
   "outputs": [],
   "source": [
    "water_wavelength = [(400, 800)]\n",
    "vegetation_wavelength = [(750, 900), (1500,1750), (2000, 2320)]\n",
    "\n",
    "array = [water_wavelength, vegetation_wavelength]\n",
    "names = [\"Water Changes\", \"Vegetation Changes\"]"
   ]
  },
  {
   "cell_type": "code",
   "execution_count": 92,
   "metadata": {},
   "outputs": [],
   "source": [
    "for idx, item in enumerate(array):\n",
    "\n",
    "    I1 = np.zeros((h, w), dtype=np.float64)  # * original image\n",
    "    I2 = np.zeros((h, w), dtype=np.float64)  # * changed image\n",
    "\n",
    "\n",
    "    for i, wavelength_range in enumerate(item):\n",
    "\n",
    "        start_idx = int((wavelength_range[0] - 380) / step_size)\n",
    "        end_idx = int((wavelength_range[1] - 380) / step_size)\n",
    "\n",
    "        I1 = I1 + np.sum(original_image[:, :, start_idx : end_idx + 1], axis=2)\n",
    "        I2 = I2 + np.sum(changed_image[:, :, start_idx : end_idx + 1], axis=2)\n",
    "\n",
    "    # Normalizing the Image\n",
    "    I1 = (255 * (I1 / np.max(I1))).astype(np.uint8)\n",
    "    I2 = (255 * (I2 / np.max(I2))).astype(np.uint8)\n",
    "\n",
    "    cv.imshow(\"pic\", np.concatenate([I1, I2], axis=1))\n",
    "    cv.waitKey(0)\n",
    "\n",
    "    final_image = cv.absdiff(I1, I2)\n",
    "\n",
    "    final_image = exposure.rescale_intensity(final_image, in_range=(0, 100))\n",
    "\n",
    "    cv.imshow(\"pic\", final_image)\n",
    "    cv.waitKey(0)\n",
    "    cv.imwrite(f\"./outputs/P1/{names[idx]}.png\", final_image)\n",
    "    cv.destroyAllWindows()"
   ]
  }
 ],
 "metadata": {
  "kernelspec": {
   "display_name": "Python 3",
   "language": "python",
   "name": "python3"
  },
  "language_info": {
   "codemirror_mode": {
    "name": "ipython",
    "version": 3
   },
   "file_extension": ".py",
   "mimetype": "text/x-python",
   "name": "python",
   "nbconvert_exporter": "python",
   "pygments_lexer": "ipython3",
   "version": "3.12.1"
  }
 },
 "nbformat": 4,
 "nbformat_minor": 2
}
