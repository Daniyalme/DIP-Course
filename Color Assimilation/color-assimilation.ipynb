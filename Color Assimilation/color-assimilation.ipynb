{
 "cells": [
  {
   "cell_type": "markdown",
   "metadata": {},
   "source": [
    "# Color Assimilation\n",
    "the color-assimilated pictures are available at `./outputs` using different methods"
   ]
  },
  {
   "cell_type": "code",
   "execution_count": 1,
   "metadata": {},
   "outputs": [],
   "source": [
    "import cv2 as cv\n",
    "import numpy as np\n",
    "import os\n",
    "\n",
    "from skimage.metrics import structural_similarity as ssim\n",
    "from skimage.metrics import peak_signal_noise_ratio as psnr"
   ]
  },
  {
   "cell_type": "code",
   "execution_count": null,
   "metadata": {},
   "outputs": [
    {
     "name": "stdout",
     "output_type": "stream",
     "text": [
      "AmirKabir.jpg shape: (2000, 1500, 3)\n",
      "AUT-CE.jpg shape: (600, 1394, 3)\n"
     ]
    }
   ],
   "source": [
    "path = \"./inputs\"\n",
    "\n",
    "images_paths = os.listdir(path)\n",
    "\n",
    "rgb_images = []\n",
    "\n",
    "for image_path in images_paths:\n",
    "    I = cv.imread(os.path.join(path,image_path))\n",
    "    rgb_images.append(I)\n",
    "\n",
    "    print(f\"{image_path} shape: {I.shape}\")"
   ]
  },
  {
   "cell_type": "code",
   "execution_count": 3,
   "metadata": {},
   "outputs": [
    {
     "name": "stdout",
     "output_type": "stream",
     "text": [
      "AmirKabir.jpg shape: (2000, 1500)\n",
      "AUT-CE.jpg shape: (600, 1394)\n"
     ]
    }
   ],
   "source": [
    "# Converting Colored Images to Grayscale\n",
    "gray_images = []\n",
    "\n",
    "# Coefficients used in cvtColor method for conveting BGR2GRAY\n",
    "coefs = [0.114, 0.587, 0.299]\n",
    "\n",
    "for i, image in enumerate(rgb_images):\n",
    "    gray_images.append(cv.cvtColor(image, cv.COLOR_BGR2GRAY))\n",
    "    \n",
    "    print(f\"{images_paths[i]} shape: {gray_images[i].shape}\")"
   ]
  },
  {
   "cell_type": "markdown",
   "metadata": {},
   "source": [
    "### Adding Circles to Grayscale Image"
   ]
  },
  {
   "cell_type": "code",
   "execution_count": null,
   "metadata": {},
   "outputs": [
    {
     "name": "stdout",
     "output_type": "stream",
     "text": [
      "Proccessing AmirKabir.jpg: shape = (2000, 1500)\n",
      "Proccessing AUT-CE.jpg: shape = (600, 1394)\n"
     ]
    }
   ],
   "source": [
    "kernel_size = 20\n",
    "radius = int(np.floor(0.4 * (kernel_size // 2)))\n",
    "circle_density = 2 * radius + 2\n",
    "opacity = 1\n",
    "\n",
    "colorized_images = []\n",
    "masks = []\n",
    "\n",
    "for idx, image in enumerate(gray_images):\n",
    "    h, w = image.shape\n",
    "    print(f\"Proccessing {images_paths[idx]}: shape = {image.shape}\")\n",
    "\n",
    "    I = np.concatenate(\n",
    "        (\n",
    "            image[..., np.newaxis],\n",
    "            image[..., np.newaxis],\n",
    "            image[..., np.newaxis],\n",
    "        ),\n",
    "        axis=2,\n",
    "    )\n",
    "\n",
    "    I_clone = I.copy()\n",
    "    mask = np.zeros_like(I)\n",
    "\n",
    "    row = radius + 2\n",
    "    col = radius + 2\n",
    "\n",
    "    diagonal = True\n",
    "\n",
    "    while row < h:\n",
    "        while col < w:\n",
    "            # Calculate the center of the current circle\n",
    "            center = (col, row)\n",
    "\n",
    "            # Adding Circles to the mask\n",
    "            cv.circle(mask, center, radius, (1, 1, 1), thickness=-1)\n",
    "\n",
    "            # Updating the center position\n",
    "            col += circle_density\n",
    "        \n",
    "        # Controling diagonal grid shape of circles\n",
    "        if diagonal:\n",
    "            col = (radius + 2) + circle_density // 2\n",
    "            diagonal = False\n",
    "        else:\n",
    "            col = (radius + 2)\n",
    "            diagonal = True\n",
    "        row += circle_density\n",
    "    \n",
    "    # Color Assimation Phase   \n",
    "    mask = (opacity * mask).astype(np.float32)\n",
    "    inverse_mask = 1 - mask\n",
    "\n",
    "    I = ((mask * rgb_images[idx]) + (I * inverse_mask)).astype(np.uint8)\n",
    "    cv.imwrite(f\"./outputs/{images_paths[idx].split(\".\")[0]}_colorized_circle.png\", I)\n",
    "    \n",
    "    # Saving the Result\n",
    "    colorized_images.append(I)\n",
    "    masks.append(mask)\n",
    "    \n",
    "    # Showing the result\n",
    "    final_image = np.concatenate([I_clone, I], axis=1)\n",
    "    final_image_resized = cv.resize(final_image, (w, h//2))\n",
    "    cv.imshow(\"pic\", final_image_resized)\n",
    "    cv.waitKey(0)\n",
    "    cv.destroyAllWindows()\n",
    "        "
   ]
  },
  {
   "cell_type": "markdown",
   "metadata": {},
   "source": [
    "### Adding Rhombus to Grayscale Image"
   ]
  },
  {
   "cell_type": "code",
   "execution_count": null,
   "metadata": {},
   "outputs": [
    {
     "name": "stdout",
     "output_type": "stream",
     "text": [
      "Proccessing AmirKabir.jpg: shape = (2000, 1500)\n",
      "Proccessing AUT-CE.jpg: shape = (600, 1394)\n"
     ]
    }
   ],
   "source": [
    "kernel_size = 40\n",
    "d1, d2 = 12, 8 # Rhombus diagonal length\n",
    "rhombus_density = abs(d1-d2) * 2 + 3\n",
    "opacity = 1\n",
    "\n",
    "for idx, image in enumerate(gray_images):\n",
    "    h, w = image.shape\n",
    "    print(f\"Proccessing {images_paths[idx]}: shape = {image.shape}\")\n",
    "\n",
    "    I = np.concatenate(\n",
    "        (\n",
    "            image[..., np.newaxis],\n",
    "            image[..., np.newaxis],\n",
    "            image[..., np.newaxis],\n",
    "        ),\n",
    "        axis=2,\n",
    "    )\n",
    "\n",
    "    I_clone = I.copy()\n",
    "    mask = np.zeros_like(I)\n",
    "\n",
    "    row = kernel_size // 2\n",
    "    col = kernel_size // 2\n",
    "\n",
    "    diagonal = True\n",
    "\n",
    "    while row < h:\n",
    "        while col < w:\n",
    "            # Calculating the center of the current rhombus\n",
    "            center = (col, row)\n",
    "\n",
    "            # Calculate the vertices based on the center and diagonals\n",
    "            half_d1, half_d2 = d1 // 2, d2 // 2\n",
    "            vertices = np.array([\n",
    "                [center[0] - half_d2, center[1]],         # Left vertex\n",
    "                [center[0], center[1] - half_d1],         # Top vertex\n",
    "                [center[0] + half_d2, center[1]],         # Right vertex\n",
    "                [center[0], center[1] + half_d1]          # Bottom vertex\n",
    "            ], np.int32)\n",
    "\n",
    "            # Reshape vertices for cv2.polylines\n",
    "            vertices = vertices.reshape((-1, 1, 2))\n",
    "\n",
    "            # Drawing the rhombus\n",
    "            cv.fillPoly(mask, [vertices], color=(1, 1, 1))\n",
    "\n",
    "            # Updating the center position\n",
    "            col += rhombus_density\n",
    "        \n",
    "        # Controling diagonal grid shape of rhombus\n",
    "        if diagonal:\n",
    "            col = kernel_size // 2 + rhombus_density // 2\n",
    "            diagonal = False\n",
    "        else:\n",
    "            col = kernel_size // 2\n",
    "            diagonal = True\n",
    "        row += rhombus_density\n",
    "    \n",
    "    # Color Assimation Phase   \n",
    "    mask = (opacity * mask).astype(np.float32)\n",
    "    inverse_mask = 1 - mask\n",
    "\n",
    "    I = ((mask * rgb_images[idx]) + (I * inverse_mask)).astype(np.uint8)\n",
    "    cv.imwrite(f\"./outputs/{images_paths[idx].split(\".\")[0]}_colorized_rhombus.png\", I)\n",
    "    \n",
    "    \n",
    "    # Showing the result\n",
    "    final_image = np.concatenate([I_clone, I], axis=1)\n",
    "    final_image_resized = cv.resize(final_image, (w, h//2))\n",
    "    cv.imshow(\"pic\", final_image_resized)\n",
    "    cv.waitKey(0)\n",
    "    cv.destroyAllWindows()"
   ]
  },
  {
   "cell_type": "markdown",
   "metadata": {},
   "source": [
    "### Color Propagation"
   ]
  },
  {
   "cell_type": "code",
   "execution_count": 11,
   "metadata": {},
   "outputs": [],
   "source": [
    "def gray_pixel_available(mask):\n",
    "    new_mask = mask.copy()\n",
    "    \n",
    "    new_mask = (new_mask/np.max(new_mask)).astype(np.int8)\n",
    "    \n",
    "    return np.sum(new_mask) != (new_mask.shape[0]*new_mask.shape[1])"
   ]
  },
  {
   "cell_type": "code",
   "execution_count": 12,
   "metadata": {},
   "outputs": [],
   "source": [
    "def get_neighbors(image, position, check_mask=False, mask=None):\n",
    "    neighbors = []\n",
    "    rows, cols, _ = image.shape\n",
    "    row, col = position\n",
    "\n",
    "    # Define the relative positions of the neighbors\n",
    "    neighbor_positions = [(-1, 0), (1, 0), (0, -1), (0, 1), \n",
    "                          (-1, -1), (-1, 1), (1, -1), (1, 1)]\n",
    "\n",
    "    # Iterate over each possible neighbor position\n",
    "    for dr, dc in neighbor_positions:\n",
    "        r, c = row + dr, col + dc\n",
    "        # Check if the neighbor is within the image boundaries\n",
    "        if 0 <= r < rows and 0 <= c < cols:\n",
    "            if check_mask:\n",
    "                if mask[r,c] == 1:\n",
    "                    neighbors.append(image[r, c])\n",
    "            else:\n",
    "                neighbors.append(image[r, c])\n",
    "\n",
    "    return neighbors"
   ]
  },
  {
   "cell_type": "code",
   "execution_count": null,
   "metadata": {},
   "outputs": [
    {
     "name": "stdout",
     "output_type": "stream",
     "text": [
      "Proccessing AmirKabir.jpg\n",
      "\n",
      "Round 1 Progress: 100.00%    \n",
      "[ Overall Progress: 85.65% ]\n",
      "Round 2 Progress: 100.00%    \n",
      "[ Overall Progress: 99.73% ]\n",
      "Round 3 Progress: 100.00%    \n",
      "[ Overall Progress: 99.89% ]\n",
      "Round 4 Progress: 100.00%    \n",
      "[ Overall Progress: 99.96% ]\n",
      "Round 5 Progress: 100.00%    \n",
      "[ Overall Progress: 99.99% ]\n",
      "Round 6 Progress: 100.00%    \n",
      "[ Overall Progress: 100.00% ]\n",
      "Round 7 Progress: 100.00%    \n",
      "[ Overall Progress: 100.00% ]\n",
      "\n",
      "Colorization on AmirKabir.jpg Finished.\n",
      "\n",
      "Proccessing AUT-CE.jpg\n",
      "\n",
      "Round 1 Progress: 100.00%    \n",
      "[ Overall Progress: 85.54% ]\n",
      "Round 2 Progress: 100.00%    \n",
      "[ Overall Progress: 99.68% ]\n",
      "Round 3 Progress: 100.00%    \n",
      "[ Overall Progress: 99.90% ]\n",
      "Round 4 Progress: 100.00%    \n",
      "[ Overall Progress: 99.95% ]\n",
      "Round 5 Progress: 100.00%    \n",
      "[ Overall Progress: 99.99% ]\n",
      "Round 6 Progress: 100.00%    \n",
      "[ Overall Progress: 100.00% ]\n",
      "Round 7 Progress: 100.00%    \n",
      "[ Overall Progress: 100.00% ]\n",
      "\n",
      "Colorization on AUT-CE.jpg Finished.\n",
      "\n"
     ]
    }
   ],
   "source": [
    "fully_colorized_images = []\n",
    "\n",
    "for idx, colorized_image in enumerate(colorized_images):\n",
    "    image = colorized_image.copy()\n",
    "    image_clone = image.copy()\n",
    "    mask = masks[idx][:, :, 0]\n",
    "    gray_area_mask = 1 - mask\n",
    "\n",
    "    h, w = mask.shape\n",
    "\n",
    "    Round = 1\n",
    "    print(f\"Proccessing {images_paths[idx]}\\n\")\n",
    "\n",
    "    while gray_pixel_available(mask):\n",
    "\n",
    "        kernel = cv.getStructuringElement(cv.MORPH_RECT, (3, 3))\n",
    "\n",
    "        new_mask = cv.morphologyEx(mask, cv.MORPH_DILATE, kernel)\n",
    "        \n",
    "        diff = new_mask - mask\n",
    "        for i in range(h):\n",
    "            for j in range(w):\n",
    "                if diff[i, j] == 1:\n",
    "                    neighbors = get_neighbors(\n",
    "                        image=image, position=(i, j), check_mask=True, mask=mask\n",
    "                    )\n",
    "                    \n",
    "                    size = len(neighbors)\n",
    "\n",
    "                    avg_b = int(sum(el[0] for el in neighbors) / size)\n",
    "                    avg_g = int(sum(el[1] for el in neighbors) / size)\n",
    "                    avg_r = int(sum(el[2] for el in neighbors) / size)\n",
    "\n",
    "                    values = np.array([avg_b, avg_g, avg_r])\n",
    "                    image[i, j, :] = values\n",
    "            print(f\"Round {Round} Progress: {(i+1)*100/h:.2f}%    \\r\", end=\"\")\n",
    "        \n",
    "        print()\n",
    "        Round += 1\n",
    "                  \n",
    "\n",
    "        I = np.concatenate([image, image_clone], axis=1)\n",
    "        I = cv.resize(I, (w, h // 2))\n",
    "\n",
    "        cv.imshow(\"pic\", I)\n",
    "        cv.waitKey(1)\n",
    "\n",
    "        mask = new_mask\n",
    "\n",
    "        print(f\"[ Overall Progress: {(np.sum(mask)/(mask.shape[0]*mask.shape[1]))*100:.2f}% ]\")\n",
    "\n",
    "    print(f\"\\nColorization on {images_paths[idx]} Finished.\\n\")\n",
    "    \n",
    "    fully_colorized_images.append(image)\n",
    "    cv.imwrite(f\"./outputs/{images_paths[idx].split(\".\")[0]}_fullycolorized.png\", image)\n",
    "\n",
    "    cv.waitKey(0)\n",
    "    cv.destroyAllWindows()"
   ]
  },
  {
   "cell_type": "code",
   "execution_count": 17,
   "metadata": {},
   "outputs": [
    {
     "name": "stdout",
     "output_type": "stream",
     "text": [
      "Comparing Original with Colorized Image for AmirKabir.jpg:\n",
      "\tSSIM score: 0.9209619069271836\n",
      "\tPSNR score: 34.264534800986425\n",
      "\n",
      "Comparing Original with Colorized Image for AUT-CE.jpg:\n",
      "\tSSIM score: 0.7778338726895614\n",
      "\tPSNR score: 22.023846005775162\n",
      "\n"
     ]
    }
   ],
   "source": [
    "for idx in range(len(images_paths)):\n",
    "    print(f\"Comparing Original with Colorized Image for {images_paths[idx]}:\")\n",
    "    print(f\"\\tSSIM score: {ssim(im1=rgb_images[idx], im2=fully_colorized_images[idx], channel_axis=2)}\")\n",
    "    print(f\"\\tPSNR score: {psnr(image_true=rgb_images[idx], image_test=fully_colorized_images[idx])}\")\n",
    "    print()"
   ]
  }
 ],
 "metadata": {
  "kernelspec": {
   "display_name": "Python 3",
   "language": "python",
   "name": "python3"
  },
  "language_info": {
   "codemirror_mode": {
    "name": "ipython",
    "version": 3
   },
   "file_extension": ".py",
   "mimetype": "text/x-python",
   "name": "python",
   "nbconvert_exporter": "python",
   "pygments_lexer": "ipython3",
   "version": "3.12.1"
  }
 },
 "nbformat": 4,
 "nbformat_minor": 2
}
